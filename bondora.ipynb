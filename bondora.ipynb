{
 "cells": [
  {
   "cell_type": "code",
   "execution_count": 1,
   "id": "ef5052c9",
   "metadata": {},
   "outputs": [],
   "source": [
    "import pandas as pd\n",
    "import numpy as np\n",
    "from sklearn.preprocessing import LabelEncoder"
   ]
  },
  {
   "cell_type": "code",
   "execution_count": 2,
   "id": "ca403060",
   "metadata": {},
   "outputs": [
    {
     "name": "stderr",
     "output_type": "stream",
     "text": [
      "C:\\Users\\sanch\\AppData\\Local\\Temp\\ipykernel_19592\\3228195612.py:3: DtypeWarning: Columns (34,37,38,80,82,83,89,90) have mixed types. Specify dtype option on import or set low_memory=False.\n",
      "  df = pd.read_csv(file_path)\n"
     ]
    },
    {
     "name": "stdout",
     "output_type": "stream",
     "text": [
      "<class 'pandas.core.frame.DataFrame'>\n",
      "RangeIndex: 134529 entries, 0 to 134528\n",
      "Columns: 112 entries, ReportAsOfEOD to ActiveLateLastPaymentCategory\n",
      "dtypes: bool(3), float64(56), int64(14), object(39)\n",
      "memory usage: 112.3+ MB\n",
      "None\n",
      "  ReportAsOfEOD                                LoanId  LoanNumber  \\\n",
      "0    2020-01-27  F0660C80-83F3-4A97-8DA0-9C250112D6EC         659   \n",
      "1    2020-01-27  978BB85B-1C69-4D51-8447-9C240104A3A2         654   \n",
      "2    2020-01-27  EA44027E-7FA7-4BB2-846D-9C1F013C8A22         641   \n",
      "3    2020-01-27  CE67AD25-2951-4BEE-96BD-9C2700C61EF4         668   \n",
      "4    2020-01-27  9408BF8C-B159-4D6A-9D61-9C2400A986E3         652   \n",
      "\n",
      "           ListedOnUTC     BiddingStartedOn  BidsPortfolioManager  BidsApi  \\\n",
      "0  2009-06-11 16:40:39  2009-06-11 16:40:39                     0        0   \n",
      "1  2009-06-10 15:48:57  2009-06-10 15:48:57                     0        0   \n",
      "2  2009-06-05 19:12:29  2009-06-05 19:12:29                     0        0   \n",
      "3  2009-06-13 12:01:20  2009-06-13 12:01:20                     0        0   \n",
      "4  2009-06-10 10:17:13  2009-06-10 10:17:13                     0        0   \n",
      "\n",
      "   BidsManual  UserName  NewCreditCustomer  ...  \\\n",
      "0    115.0410      KARU               True  ...   \n",
      "1    140.6057  koort681              False  ...   \n",
      "2    319.5580       0ie               True  ...   \n",
      "3     57.5205    Alyona               True  ...   \n",
      "4    319.5582       Kai               True  ...   \n",
      "\n",
      "  PreviousEarlyRepaymentsCountBeforeLoan GracePeriodStart GracePeriodEnd  \\\n",
      "0                                      0              NaN            NaN   \n",
      "1                                      0              NaN            NaN   \n",
      "2                                      0              NaN            NaN   \n",
      "3                                      0              NaN            NaN   \n",
      "4                                      0              NaN            NaN   \n",
      "\n",
      "  NextPaymentDate NextPaymentNr NrOfScheduledPayments  ReScheduledOn  \\\n",
      "0             NaN           NaN                   NaN            NaN   \n",
      "1             NaN           NaN                   NaN            NaN   \n",
      "2             NaN           NaN                   NaN            NaN   \n",
      "3             NaN           NaN                   NaN            NaN   \n",
      "4             NaN           NaN                   NaN            NaN   \n",
      "\n",
      "   PrincipalDebtServicingCost  InterestAndPenaltyDebtServicingCost  \\\n",
      "0                         0.0                                  0.0   \n",
      "1                         0.0                                  0.0   \n",
      "2                         0.0                                  0.0   \n",
      "3                         0.0                                  0.0   \n",
      "4                         0.0                                  0.0   \n",
      "\n",
      "   ActiveLateLastPaymentCategory  \n",
      "0                            NaN  \n",
      "1                            NaN  \n",
      "2                           180+  \n",
      "3                            NaN  \n",
      "4                           180+  \n",
      "\n",
      "[5 rows x 112 columns]\n"
     ]
    }
   ],
   "source": [
    "# Load dataset\n",
    "file_path = \"Bondora_raw.csv\"\n",
    "df = pd.read_csv(file_path)\n",
    "\n",
    "# Display basic info\n",
    "print(df.info())\n",
    "print(df.head())"
   ]
  },
  {
   "cell_type": "code",
   "execution_count": 3,
   "id": "69e34b62",
   "metadata": {},
   "outputs": [
    {
     "name": "stdout",
     "output_type": "stream",
     "text": [
      "Missing Values:\n",
      " ReportAsOfEOD                              0\n",
      "LoanId                                     0\n",
      "LoanNumber                                 0\n",
      "ListedOnUTC                                0\n",
      "BiddingStartedOn                           0\n",
      "                                       ...  \n",
      "NrOfScheduledPayments                  36741\n",
      "ReScheduledOn                          94207\n",
      "PrincipalDebtServicingCost             75400\n",
      "InterestAndPenaltyDebtServicingCost    75400\n",
      "ActiveLateLastPaymentCategory          82279\n",
      "Length: 112, dtype: int64\n"
     ]
    }
   ],
   "source": [
    "# Identify missing values\n",
    "missing_values = df.isnull().sum()\n",
    "print(\"Missing Values:\\n\", missing_values)"
   ]
  },
  {
   "cell_type": "code",
   "execution_count": 4,
   "id": "8ea3ef66",
   "metadata": {},
   "outputs": [],
   "source": [
    "# Drop columns with more than 50% missing values\n",
    "threshold = len(df) * 0.5\n",
    "df = df.dropna(thresh=threshold, axis=1)"
   ]
  },
  {
   "cell_type": "code",
   "execution_count": 5,
   "id": "50a6d853",
   "metadata": {},
   "outputs": [],
   "source": [
    "# Fill missing values\n",
    "for col in df.select_dtypes(include=['number']):\n",
    "    df[col] = df[col].fillna(df[col].median())\n",
    "\n",
    "for col in df.select_dtypes(include=['object']):\n",
    "    df[col] = df[col].fillna(\"Unknown\")"
   ]
  },
  {
   "cell_type": "code",
   "execution_count": 6,
   "id": "b15dc674",
   "metadata": {},
   "outputs": [],
   "source": [
    "# Remove duplicate rows\n",
    "df = df.drop_duplicates()"
   ]
  },
  {
   "cell_type": "code",
   "execution_count": 7,
   "id": "91c8528e",
   "metadata": {},
   "outputs": [],
   "source": [
    "df.columns = df.columns.str.lower().str.replace(' ', '_')"
   ]
  },
  {
   "cell_type": "code",
   "execution_count": 8,
   "id": "27ba50f2",
   "metadata": {},
   "outputs": [
    {
     "name": "stderr",
     "output_type": "stream",
     "text": [
      "C:\\Users\\sanch\\AppData\\Local\\Temp\\ipykernel_19592\\3863812532.py:6: UserWarning: Could not infer format, so each element will be parsed individually, falling back to `dateutil`. To ensure parsing is consistent and as-expected, please specify a format.\n",
      "  df[col] = pd.to_datetime(df[col],errors='coerce')\n"
     ]
    }
   ],
   "source": [
    "# Convert date columns\n",
    "date_cols = ['reportasofeod', 'listedonutc', 'biddingstartedon', 'loanapplicationstarteddate',\n",
    "    'loandate', 'firstpaymentdate', 'maturitydate_original', 'maturitydate_last',\n",
    "    'lastpaymenton', 'stageactivesince']\n",
    "for col in date_cols:\n",
    "    df[col] = pd.to_datetime(df[col],errors='coerce')"
   ]
  },
  {
   "cell_type": "code",
   "execution_count": 9,
   "id": "2a042cc7",
   "metadata": {},
   "outputs": [
    {
     "name": "stdout",
     "output_type": "stream",
     "text": [
      "status\n",
      "Current    57135\n",
      "Late       45772\n",
      "Repaid     31622\n",
      "Name: count, dtype: int64\n"
     ]
    }
   ],
   "source": [
    "# Check unique values in 'status'\n",
    "print(df['status'].value_counts())"
   ]
  },
  {
   "cell_type": "code",
   "execution_count": 10,
   "id": "1ed51c40",
   "metadata": {},
   "outputs": [
    {
     "name": "stdout",
     "output_type": "stream",
     "text": [
      "target\n",
      "0    0.659761\n",
      "1    0.340239\n",
      "Name: proportion, dtype: float64\n"
     ]
    }
   ],
   "source": [
    "# Map 'status' column to binary target\n",
    "default_statuses = [\"Current\", \"Late\", \"Repaid\"]  # Update based on actual values\n",
    "df['target'] = df['status'].apply(lambda x: 1 if x == \"Late\" else 0)\n",
    "\n",
    "# Verify distribution\n",
    "print(df['target'].value_counts(normalize=True))"
   ]
  },
  {
   "cell_type": "code",
   "execution_count": 11,
   "id": "fe4cf91c",
   "metadata": {},
   "outputs": [],
   "source": [
    "# Identify categorical columns\n",
    "categorical_cols = df.select_dtypes(include=['object']).columns.tolist()\n",
    "\n",
    "# Label Encoding for binary categorical columns\n",
    "le = LabelEncoder()\n",
    "for col in categorical_cols:\n",
    "    if df[col].nunique() == 2:\n",
    "        df[col] = le.fit_transform(df[col])"
   ]
  },
  {
   "cell_type": "code",
   "execution_count": 12,
   "id": "8c67ad2a",
   "metadata": {},
   "outputs": [],
   "source": [
    "# Cap outliers to 1st and 99th percentile\n",
    "for col in df.select_dtypes(include=['number']):\n",
    "    lower = df[col].quantile(0.01)\n",
    "    upper = df[col].quantile(0.99)\n",
    "    df[col] = df[col].clip(lower, upper)"
   ]
  },
  {
   "cell_type": "code",
   "execution_count": 13,
   "id": "3115e8d0",
   "metadata": {},
   "outputs": [
    {
     "name": "stdout",
     "output_type": "stream",
     "text": [
      "Processed dataset saved.\n"
     ]
    }
   ],
   "source": [
    "df.to_csv('Bondora_processed.csv', index=False)\n",
    "print(\"Processed dataset saved.\")"
   ]
  },
  {
   "cell_type": "code",
   "execution_count": null,
   "id": "0d0d8dc8",
   "metadata": {},
   "outputs": [],
   "source": []
  }
 ],
 "metadata": {
  "kernelspec": {
   "display_name": "Python 3 (ipykernel)",
   "language": "python",
   "name": "python3"
  },
  "language_info": {
   "codemirror_mode": {
    "name": "ipython",
    "version": 3
   },
   "file_extension": ".py",
   "mimetype": "text/x-python",
   "name": "python",
   "nbconvert_exporter": "python",
   "pygments_lexer": "ipython3",
   "version": "3.9.18"
  }
 },
 "nbformat": 4,
 "nbformat_minor": 5
}
